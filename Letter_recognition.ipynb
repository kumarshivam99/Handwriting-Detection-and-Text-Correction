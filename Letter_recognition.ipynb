{
  "nbformat": 4,
  "nbformat_minor": 0,
  "metadata": {
    "colab": {
      "name": "Letter_recognition",
      "provenance": [],
      "collapsed_sections": [],
      "include_colab_link": true
    },
    "kernelspec": {
      "name": "python3",
      "display_name": "Python 3"
    },
    "accelerator": "GPU"
  },
  "cells": [
    {
      "cell_type": "markdown",
      "metadata": {
        "id": "view-in-github",
        "colab_type": "text"
      },
      "source": [
        "<a href=\"https://colab.research.google.com/github/kumarshivam99/Handwriting-Detection-and-Text-Correction/blob/main/Letter_recognition.ipynb\" target=\"_parent\"><img src=\"https://colab.research.google.com/assets/colab-badge.svg\" alt=\"Open In Colab\"/></a>"
      ]
    },
    {
      "cell_type": "code",
      "metadata": {
        "id": "WZu3Hu1ZvlL8"
      },
      "source": [
        "from google.colab import drive\n",
        "drive.mount('/content/gdrive/')"
      ],
      "execution_count": null,
      "outputs": []
    },
    {
      "cell_type": "code",
      "metadata": {
        "id": "b2bwQzHApocQ"
      },
      "source": [
        "!pip install kaggle"
      ],
      "execution_count": null,
      "outputs": []
    },
    {
      "cell_type": "code",
      "metadata": {
        "id": "RQ9UcJR-uK_L"
      },
      "source": [
        "!mkdir .kaggle"
      ],
      "execution_count": null,
      "outputs": []
    },
    {
      "cell_type": "code",
      "metadata": {
        "id": "fLaowPZsuN0C"
      },
      "source": [
        "import json\n",
        "token = {\"username\":\"pranayranjan\",\"key\":\"65424b5b24843777c889b2fc7a09c313\"}\n",
        "with open('/content/.kaggle/kaggle.json', 'w') as file:\n",
        "    json.dump(token, file)"
      ],
      "execution_count": null,
      "outputs": []
    },
    {
      "cell_type": "code",
      "metadata": {
        "id": "6A2NDi_Hu09U"
      },
      "source": [
        "!cp /content/.kaggle/kaggle.json ~/.kaggle/kaggle.json"
      ],
      "execution_count": null,
      "outputs": []
    },
    {
      "cell_type": "code",
      "metadata": {
        "id": "tzJxXcKsu4hH"
      },
      "source": [
        "!kaggle config set -n path -v{/content}"
      ],
      "execution_count": null,
      "outputs": []
    },
    {
      "cell_type": "code",
      "metadata": {
        "id": "XybSMi4pu920"
      },
      "source": [
        "!chmod 600 /root/.kaggle/kaggle.json"
      ],
      "execution_count": null,
      "outputs": []
    },
    {
      "cell_type": "code",
      "metadata": {
        "id": "0CoIv31iv7Ll"
      },
      "source": [
        "!kaggle datasets list"
      ],
      "execution_count": null,
      "outputs": []
    },
    {
      "cell_type": "code",
      "metadata": {
        "id": "FICw-KYJv_Z-"
      },
      "source": [
        "!kaggle datasets list -s EMNIST"
      ],
      "execution_count": null,
      "outputs": []
    },
    {
      "cell_type": "code",
      "metadata": {
        "id": "rlTgG_S6wKxM",
        "colab": {
          "base_uri": "https://localhost:8080/"
        },
        "outputId": "13132c73-f9f9-4d67-b52b-a69d908fbf89"
      },
      "source": [
        "!kaggle datasets download -d crawford/emnist -p /content"
      ],
      "execution_count": 1,
      "outputs": [
        {
          "output_type": "stream",
          "name": "stdout",
          "text": [
            "Traceback (most recent call last):\n",
            "  File \"/usr/local/bin/kaggle\", line 5, in <module>\n",
            "    from kaggle.cli import main\n",
            "  File \"/usr/local/lib/python3.7/dist-packages/kaggle/__init__.py\", line 23, in <module>\n",
            "    api.authenticate()\n",
            "  File \"/usr/local/lib/python3.7/dist-packages/kaggle/api/kaggle_api_extended.py\", line 166, in authenticate\n",
            "    self.config_file, self.config_dir))\n",
            "OSError: Could not find kaggle.json. Make sure it's located in /root/.kaggle. Or use the environment method.\n"
          ]
        }
      ]
    },
    {
      "cell_type": "code",
      "metadata": {
        "id": "gATFdrAsw1EN"
      },
      "source": [
        "!unzip \\*.zip"
      ],
      "execution_count": null,
      "outputs": []
    },
    {
      "cell_type": "code",
      "metadata": {
        "id": "WaeJSvwAxFW7"
      },
      "source": [
        "import numpy as np\n",
        "import pandas as pd\n",
        "import matplotlib.pyplot as plt\n",
        "\n",
        "from sklearn.model_selection import train_test_split\n",
        "import cv2\n",
        "\n",
        "#keras\n",
        "from keras.models import Sequential\n",
        "from keras.layers import Dense, Dropout, Flatten\n",
        "from keras.layers import Conv2D, MaxPooling2D\n",
        "from keras.utils import np_utils\n",
        "import sklearn.metrics as metrics"
      ],
      "execution_count": null,
      "outputs": []
    },
    {
      "cell_type": "code",
      "metadata": {
        "id": "dQ3khjmUxPYV"
      },
      "source": [
        "train = pd.read_csv(\"emnist-letters-train.csv\",delimiter = ',')\n",
        "test = pd.read_csv(\"emnist-letters-test.csv\", delimiter = ',')\n",
        "mapp = pd.read_csv(\"emnist-letters-mapping.txt\", delimiter = ' ', \\\n",
        "                   index_col=0, header=None, squeeze=True)\n",
        "print(\"Train: %s, Test: %s, Map: %s\" %(train.shape, test.shape, mapp.shape))"
      ],
      "execution_count": null,
      "outputs": []
    },
    {
      "cell_type": "code",
      "metadata": {
        "id": "YettIeZbxhGo"
      },
      "source": [
        "# Constants\n",
        "HEIGHT = 28\n",
        "WIDTH = 28"
      ],
      "execution_count": null,
      "outputs": []
    },
    {
      "cell_type": "code",
      "metadata": {
        "colab": {
          "base_uri": "https://localhost:8080/"
        },
        "id": "uh3NS6lfuIxZ",
        "outputId": "1cc551b6-0960-4194-cfdb-17e5b247b5ac"
      },
      "source": [
        "print(train.iloc[:,0])"
      ],
      "execution_count": null,
      "outputs": [
        {
          "output_type": "stream",
          "name": "stdout",
          "text": [
            "0         7\n",
            "1        16\n",
            "2        15\n",
            "3        23\n",
            "4        17\n",
            "         ..\n",
            "88794     1\n",
            "88795    21\n",
            "88796     1\n",
            "88797    23\n",
            "88798    12\n",
            "Name: 23, Length: 88799, dtype: int64\n"
          ]
        }
      ]
    },
    {
      "cell_type": "code",
      "metadata": {
        "id": "04LTggCqxnLS"
      },
      "source": [
        "# Split x and y\n",
        "train_x = train.iloc[:,1:]\n",
        "train_y = train.iloc[:,0]\n",
        "del train\n",
        "\n",
        "test_x = test.iloc[:,1:]\n",
        "test_y = test.iloc[:,0]\n",
        "del test"
      ],
      "execution_count": null,
      "outputs": []
    },
    {
      "cell_type": "code",
      "metadata": {
        "id": "J_m9tSDXuawH"
      },
      "source": [
        "print(train_y[6])"
      ],
      "execution_count": null,
      "outputs": []
    },
    {
      "cell_type": "code",
      "metadata": {
        "id": "Viu_GBsvuqxg"
      },
      "source": [
        ""
      ],
      "execution_count": null,
      "outputs": []
    },
    {
      "cell_type": "code",
      "metadata": {
        "id": "JnowkuA2xq4Z"
      },
      "source": [
        "print(train_x.shape,train_y.shape,test_x.shape,test_y.shape)"
      ],
      "execution_count": null,
      "outputs": []
    },
    {
      "cell_type": "code",
      "metadata": {
        "id": "8H8KlJNmxu7s"
      },
      "source": [
        "def rotate(image):\n",
        "    image = image.reshape([HEIGHT, WIDTH])\n",
        "    image = np.fliplr(image)\n",
        "    image = np.rot90(image)\n",
        "    return image"
      ],
      "execution_count": null,
      "outputs": []
    },
    {
      "cell_type": "code",
      "metadata": {
        "id": "icBA7M28xyfE"
      },
      "source": [
        "# Flip and rotate image\n",
        "train_x = np.asarray(train_x)\n",
        "train_x = np.apply_along_axis(rotate, 1, train_x)\n",
        "print (\"train_x:\",train_x.shape)\n",
        "\n",
        "test_x = np.asarray(test_x)\n",
        "test_x = np.apply_along_axis(rotate, 1, test_x)\n",
        "print (\"test_x:\",test_x.shape)"
      ],
      "execution_count": null,
      "outputs": []
    },
    {
      "cell_type": "code",
      "metadata": {
        "id": "1EzJC4Kex18d"
      },
      "source": [
        "# Normalise\n",
        "train_x = train_x.astype('float32')\n",
        "train_x /= 255\n",
        "test_x = test_x.astype('float32')\n",
        "test_x /= 255"
      ],
      "execution_count": null,
      "outputs": []
    },
    {
      "cell_type": "code",
      "metadata": {
        "id": "0yK-4aDBx5jy"
      },
      "source": [
        "# plot image\n",
        "for i in range(100, 109):\n",
        "    plt.subplot(330 + (i+1))\n",
        "    plt.imshow(train_x[i], cmap=plt.get_cmap('gray'))\n",
        "    plt.title(chr(mapp.iloc[train_y[i],0]))\n",
        "    #print(chr(mapp.iloc[train_y[i],1]))"
      ],
      "execution_count": null,
      "outputs": []
    },
    {
      "cell_type": "code",
      "metadata": {
        "id": "4DfDuS_ZoGYd"
      },
      "source": [
        "type(mapp)"
      ],
      "execution_count": null,
      "outputs": []
    },
    {
      "cell_type": "code",
      "metadata": {
        "id": "SP96eofTpzcn"
      },
      "source": [
        "print(mapp.iloc[4,0])"
      ],
      "execution_count": null,
      "outputs": []
    },
    {
      "cell_type": "code",
      "metadata": {
        "id": "Hr_v4duzu6ca"
      },
      "source": [
        "chr(69)"
      ],
      "execution_count": null,
      "outputs": []
    },
    {
      "cell_type": "code",
      "metadata": {
        "id": "K6nI0nG2pqm1"
      },
      "source": [
        "for i in range(100, 109):\n",
        "  print(chr(mapp.iloc[train_y[i]]))"
      ],
      "execution_count": null,
      "outputs": []
    },
    {
      "cell_type": "code",
      "metadata": {
        "id": "r_GIgxLUmn1s"
      },
      "source": [
        "plt.title([train_y[105]])"
      ],
      "execution_count": null,
      "outputs": []
    },
    {
      "cell_type": "code",
      "metadata": {
        "id": "mRkF__2ex8fj"
      },
      "source": [
        "# number of classes\n",
        "num_classes = train_y.nunique()"
      ],
      "execution_count": null,
      "outputs": []
    },
    {
      "cell_type": "code",
      "metadata": {
        "id": "6BHqAFWhyCXu"
      },
      "source": [
        "# One hot encoding\n",
        "train_y = np_utils.to_categorical(train_y, num_classes)\n",
        "test_y = np_utils.to_categorical(test_y, num_classes)\n",
        "print(\"train_y: \", train_y.shape)\n",
        "print(\"test_y: \", test_y.shape)"
      ],
      "execution_count": null,
      "outputs": []
    },
    {
      "cell_type": "code",
      "metadata": {
        "id": "nyQmoQCQyF63"
      },
      "source": [
        "# Reshape image for CNN\n",
        "train_x = train_x.reshape(-1, HEIGHT, WIDTH, 1)\n",
        "test_x = test_x.reshape(-1, HEIGHT, WIDTH, 1)"
      ],
      "execution_count": null,
      "outputs": []
    },
    {
      "cell_type": "code",
      "metadata": {
        "id": "efLSshWCyI7M"
      },
      "source": [
        "# partition to train and val\n",
        "train_x, val_x, train_y, val_y = train_test_split(train_x, train_y, test_size= 0.10, random_state=7)"
      ],
      "execution_count": null,
      "outputs": []
    },
    {
      "cell_type": "code",
      "metadata": {
        "id": "-CObSyIZyLn8"
      },
      "source": [
        "# Building model\n",
        "# ((Si - Fi + 2P)/S) + 1\n",
        "model = Sequential()\n",
        "\n",
        "model.add(Conv2D(filters=128, kernel_size=(5,5), padding = 'same', activation='relu',\\\n",
        "                 input_shape=(HEIGHT, WIDTH,1)))\n",
        "model.add(MaxPooling2D(pool_size=(2,2), strides=(2,2)))\n",
        "model.add(Conv2D(filters=64, kernel_size=(3,3) , padding = 'same', activation='relu'))\n",
        "model.add(MaxPooling2D(pool_size=(2,2)))\n",
        "\n",
        "model.add(Flatten())\n",
        "model.add(Dense(units=128, activation='relu'))\n",
        "model.add(Dropout(.5))\n",
        "model.add(Dense(units=num_classes, activation='softmax'))\n",
        "\n",
        "model.summary()"
      ],
      "execution_count": null,
      "outputs": []
    },
    {
      "cell_type": "code",
      "metadata": {
        "id": "E3jzFkmayQPY"
      },
      "source": [
        "model.compile(loss='categorical_crossentropy', optimizer='adam', metrics=['accuracy'])"
      ],
      "execution_count": null,
      "outputs": []
    },
    {
      "cell_type": "code",
      "metadata": {
        "id": "Wa7UBR6JyUVc"
      },
      "source": [
        "history = model.fit(train_x, train_y, epochs=20, batch_size=512, verbose=1, \\\n",
        "                    validation_data=(val_x, val_y))"
      ],
      "execution_count": null,
      "outputs": []
    },
    {
      "cell_type": "code",
      "metadata": {
        "id": "YT3fgi5QydIg"
      },
      "source": [
        "model.save('cnn_model-10-epochs.h5')"
      ],
      "execution_count": null,
      "outputs": []
    },
    {
      "cell_type": "code",
      "metadata": {
        "id": "MPCu-wjozrRF"
      },
      "source": [
        "# plot accuracy and loss\n",
        "def plotgraph(epochs, acc, val_acc):\n",
        "    # Plot training & validation accuracy values\n",
        "    plt.plot(epochs, acc, 'b')\n",
        "    plt.plot(epochs, val_acc, 'r')\n",
        "    plt.title('Model accuracy')\n",
        "    plt.ylabel('Accuracy')\n",
        "    plt.xlabel('Epoch')\n",
        "    plt.legend(['Train', 'Val'], loc='upper left')\n",
        "    plt.show()"
      ],
      "execution_count": null,
      "outputs": []
    },
    {
      "cell_type": "code",
      "metadata": {
        "id": "EJk_5xYh0mIu"
      },
      "source": [
        "acc = history.history['accuracy']\n",
        "val_acc = history.history['val_accuracy']\n",
        "loss = history.history['loss']\n",
        "val_loss = history.history['val_loss']\n",
        "epochs = range(1,len(acc)+1)"
      ],
      "execution_count": null,
      "outputs": []
    },
    {
      "cell_type": "code",
      "metadata": {
        "id": "ppC2h11k1T69",
        "colab": {
          "base_uri": "https://localhost:8080/",
          "height": 295
        },
        "outputId": "922e261e-ac18-42ff-eacf-5cc747340231"
      },
      "source": [
        "# Accuracy curve\n",
        "plotgraph(epochs, acc, val_acc)"
      ],
      "execution_count": null,
      "outputs": [
        {
          "output_type": "display_data",
          "data": {
            "image/png": "[encoded data removed]",
            "text/plain": [
              "<Figure size 432x288 with 1 Axes>"
            ]
          },
          "metadata": {
            "tags": [],
            "needs_background": "light"
          }
        }
      ]
    },
    {
      "cell_type": "code",
      "metadata": {
        "id": "s0tnDXkA1nHT",
        "colab": {
          "base_uri": "https://localhost:8080/",
          "height": 295
        },
        "outputId": "3e6d4174-efe7-46b1-ae71-47a6eb92a8f2"
      },
      "source": [
        "plotgraph(epochs, loss, val_loss)"
      ],
      "execution_count": null,
      "outputs": [
        {
          "output_type": "display_data",
          "data": {
            "image/png": "[encoded data removed]",
            "text/plain": [
              "<Figure size 432x288 with 1 Axes>"
            ]
          },
          "metadata": {
            "tags": [],
            "needs_background": "light"
          }
        }
      ]
    },
    {
      "cell_type": "code",
      "metadata": {
        "id": "Hy3IY0dy1wp9"
      },
      "source": [
        "score = model.evaluate(test_x, test_y, verbose=0)\n",
        "print(\"Test loss:\", score[0])\n",
        "print(\"Test accuracy:\", score[1])"
      ],
      "execution_count": null,
      "outputs": []
    },
    {
      "cell_type": "code",
      "metadata": {
        "id": "LRGLtl4d10Eq"
      },
      "source": [
        "y_pred = model.predict(test_x)\n",
        "y_pred = (y_pred > 0.5)"
      ],
      "execution_count": null,
      "outputs": []
    },
    {
      "cell_type": "code",
      "metadata": {
        "id": "EYZXfms-16_P"
      },
      "source": [
        "cm = metrics.confusion_matrix(test_y.argmax(axis=1), y_pred.argmax(axis=1))"
      ],
      "execution_count": null,
      "outputs": []
    },
    {
      "cell_type": "code",
      "metadata": {
        "id": "H-M4bLCr1-NL"
      },
      "source": [
        "cm"
      ],
      "execution_count": null,
      "outputs": []
    },
    {
      "cell_type": "code",
      "metadata": {
        "id": "Wj_g80HO2M8V"
      },
      "source": [
        "%ls"
      ],
      "execution_count": null,
      "outputs": []
    },
    {
      "cell_type": "code",
      "metadata": {
        "id": "bc1UroCR2HBn"
      },
      "source": [
        "%cd"
      ],
      "execution_count": null,
      "outputs": []
    },
    {
      "cell_type": "code",
      "metadata": {
        "id": "1XwSj6Rc2BNz"
      },
      "source": [
        "%cd /content/drive/My Drive"
      ],
      "execution_count": null,
      "outputs": []
    },
    {
      "cell_type": "code",
      "metadata": {
        "id": "n9yTCJQZ2S_W"
      },
      "source": [
        "from google.colab import files\n",
        "files.download('cnn_model-10-epochs.h5') "
      ],
      "execution_count": null,
      "outputs": []
    }
  ]
}