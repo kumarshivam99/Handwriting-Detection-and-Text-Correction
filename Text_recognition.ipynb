{
  "nbformat": 4,
  "nbformat_minor": 0,
  "metadata": {
    "colab": {
      "name": "Text_recognition.ipynb",
      "provenance": [],
      "collapsed_sections": [],
      "include_colab_link": true
    },
    "kernelspec": {
      "display_name": "Python 3",
      "language": "python",
      "name": "python3"
    },
    "language_info": {
      "codemirror_mode": {
        "name": "ipython",
        "version": 3
      },
      "file_extension": ".py",
      "mimetype": "text/x-python",
      "name": "python",
      "nbconvert_exporter": "python",
      "pygments_lexer": "ipython3",
      "version": "3.6.9"
    }
  },
  "cells": [
    {
      "cell_type": "markdown",
      "metadata": {
        "id": "view-in-github",
        "colab_type": "text"
      },
      "source": [
        "<a href=\"https://colab.research.google.com/github/kumarshivam99/Handwriting-Detection-and-Text-Correction/blob/main/Text_recognition.ipynb\" target=\"_parent\"><img src=\"https://colab.research.google.com/assets/colab-badge.svg\" alt=\"Open In Colab\"/></a>"
      ]
    },
    {
      "cell_type": "code",
      "metadata": {
        "id": "Qq1j6oCplz86"
      },
      "source": [
        "%tensorflow_version 2.x\n",
        "#!pip show tensorflow"
      ],
      "execution_count": 6,
      "outputs": []
    },
    {
      "cell_type": "code",
      "metadata": {
        "id": "2R23VIidlxY5",
        "colab": {
          "base_uri": "https://localhost:8080/"
        },
        "outputId": "dba3c59e-b3d6-4090-cfd6-f9ff3f684bdf"
      },
      "source": [
        "from google.colab import drive\n",
        "drive.mount('/content/gdrive/')"
      ],
      "execution_count": 1,
      "outputs": [
        {
          "output_type": "stream",
          "name": "stdout",
          "text": [
            "Mounted at /content/gdrive/\n"
          ]
        }
      ]
    },
    {
      "cell_type": "code",
      "metadata": {
        "id": "6w2y1PiMlkxy"
      },
      "source": [
        "import pandas as pd\n",
        "import numpy as np\n",
        "import string\n",
        "from string import digits\n",
        "import cv2\n",
        "import os\n",
        "import matplotlib.image as mpimg\n",
        "import matplotlib.pyplot as plt\n",
        "from nltk.translate.bleu_score import sentence_bleu"
      ],
      "execution_count": 2,
      "outputs": []
    },
    {
      "cell_type": "code",
      "metadata": {
        "colab": {
          "base_uri": "https://localhost:8080/"
        },
        "id": "F4fftJXM50yU",
        "outputId": "8ae4aab4-d13b-42ef-f63b-4c53417a0af3"
      },
      "source": [
        "%cd ../"
      ],
      "execution_count": 3,
      "outputs": [
        {
          "output_type": "stream",
          "name": "stdout",
          "text": [
            "/\n"
          ]
        }
      ]
    },
    {
      "cell_type": "code",
      "metadata": {
        "colab": {
          "base_uri": "https://localhost:8080/"
        },
        "id": "tCQUDzIP6MgW",
        "outputId": "ab26cd05-bc0e-4f50-91ab-b850196c73bc"
      },
      "source": [
        "%ls"
      ],
      "execution_count": 4,
      "outputs": [
        {
          "output_type": "stream",
          "name": "stdout",
          "text": [
            "\u001b[0m\u001b[01;34mbin\u001b[0m/      \u001b[01;34mdev\u001b[0m/   \u001b[01;34mlib32\u001b[0m/  \u001b[01;34mopt\u001b[0m/         \u001b[01;34mrun\u001b[0m/   \u001b[01;34mtensorflow-1.15.2\u001b[0m/  \u001b[01;34mvar\u001b[0m/\n",
            "\u001b[01;34mboot\u001b[0m/     \u001b[01;34metc\u001b[0m/   \u001b[01;34mlib64\u001b[0m/  \u001b[01;34mproc\u001b[0m/        \u001b[01;34msbin\u001b[0m/  \u001b[30;42mtmp\u001b[0m/\n",
            "\u001b[01;34mcontent\u001b[0m/  \u001b[01;34mhome\u001b[0m/  \u001b[01;34mmedia\u001b[0m/  \u001b[01;34mpython-apt\u001b[0m/  \u001b[01;34msrv\u001b[0m/   \u001b[01;34mtools\u001b[0m/\n",
            "\u001b[01;34mdatalab\u001b[0m/  \u001b[01;34mlib\u001b[0m/   \u001b[01;34mmnt\u001b[0m/    \u001b[01;34mroot\u001b[0m/        \u001b[01;34msys\u001b[0m/   \u001b[01;34musr\u001b[0m/\n"
          ]
        }
      ]
    },
    {
      "cell_type": "code",
      "metadata": {
        "colab": {
          "base_uri": "https://localhost:8080/"
        },
        "id": "6OZZer7I53nO",
        "outputId": "9cc82ddc-6178-4b40-c026-6c04c20b3536"
      },
      "source": [
        "%cd  /content/gdrive/My Drive"
      ],
      "execution_count": 5,
      "outputs": [
        {
          "output_type": "stream",
          "name": "stdout",
          "text": [
            "/content/gdrive/My Drive\n"
          ]
        }
      ]
    },
    {
      "cell_type": "code",
      "metadata": {
        "id": "s60gY69slkx3"
      },
      "source": [
        "from tensorflow.keras.models import load_model\n",
        "\n",
        "model=load_model('cnn_model-10-epochs.h5')"
      ],
      "execution_count": 7,
      "outputs": []
    },
    {
      "cell_type": "markdown",
      "metadata": {
        "id": "AfEty_bbe37a"
      },
      "source": [
        ""
      ]
    },
    {
      "cell_type": "code",
      "metadata": {
        "colab": {
          "base_uri": "https://localhost:8080/",
          "height": 423
        },
        "id": "tQVcGcUBa3H1",
        "outputId": "ce7461e1-9a5e-4cd4-b66e-50b737a7307c"
      },
      "source": [
        "lines= pd.read_csv('input_word.csv')\n",
        "lines"
      ],
      "execution_count": 9,
      "outputs": [
        {
          "output_type": "execute_result",
          "data": {
            "text/plain": [
              "              a\n",
              "0     abandoned\n",
              "1       ability\n",
              "2        ablaze\n",
              "3          able\n",
              "4         about\n",
              "...         ...\n",
              "2366      yours\n",
              "2367   yourself\n",
              "2368      youth\n",
              "2369      youve\n",
              "2370        zoo\n",
              "\n",
              "[2371 rows x 1 columns]"
            ],
            "text/html": [
              "\n",
              "  <div id=\"df-67d3b054-b501-49fd-8bde-106944e4d758\">\n",
              "    <div class=\"colab-df-container\">\n",
              "      <div>\n",
              "<style scoped>\n",
              "    .dataframe tbody tr th:only-of-type {\n",
              "        vertical-align: middle;\n",
              "    }\n",
              "\n",
              "    .dataframe tbody tr th {\n",
              "        vertical-align: top;\n",
              "    }\n",
              "\n",
              "    .dataframe thead th {\n",
              "        text-align: right;\n",
              "    }\n",
              "</style>\n",
              "<table border=\"1\" class=\"dataframe\">\n",
              "  <thead>\n",
              "    <tr style=\"text-align: right;\">\n",
              "      <th></th>\n",
              "      <th>a</th>\n",
              "    </tr>\n",
              "  </thead>\n",
              "  <tbody>\n",
              "    <tr>\n",
              "      <th>0</th>\n",
              "      <td>abandoned</td>\n",
              "    </tr>\n",
              "    <tr>\n",
              "      <th>1</th>\n",
              "      <td>ability</td>\n",
              "    </tr>\n",
              "    <tr>\n",
              "      <th>2</th>\n",
              "      <td>ablaze</td>\n",
              "    </tr>\n",
              "    <tr>\n",
              "      <th>3</th>\n",
              "      <td>able</td>\n",
              "    </tr>\n",
              "    <tr>\n",
              "      <th>4</th>\n",
              "      <td>about</td>\n",
              "    </tr>\n",
              "    <tr>\n",
              "      <th>...</th>\n",
              "      <td>...</td>\n",
              "    </tr>\n",
              "    <tr>\n",
              "      <th>2366</th>\n",
              "      <td>yours</td>\n",
              "    </tr>\n",
              "    <tr>\n",
              "      <th>2367</th>\n",
              "      <td>yourself</td>\n",
              "    </tr>\n",
              "    <tr>\n",
              "      <th>2368</th>\n",
              "      <td>youth</td>\n",
              "    </tr>\n",
              "    <tr>\n",
              "      <th>2369</th>\n",
              "      <td>youve</td>\n",
              "    </tr>\n",
              "    <tr>\n",
              "      <th>2370</th>\n",
              "      <td>zoo</td>\n",
              "    </tr>\n",
              "  </tbody>\n",
              "</table>\n",
              "<p>2371 rows × 1 columns</p>\n",
              "</div>\n",
              "      <button class=\"colab-df-convert\" onclick=\"convertToInteractive('df-67d3b054-b501-49fd-8bde-106944e4d758')\"\n",
              "              title=\"Convert this dataframe to an interactive table.\"\n",
              "              style=\"display:none;\">\n",
              "        \n",
              "  <svg xmlns=\"http://www.w3.org/2000/svg\" height=\"24px\"viewBox=\"0 0 24 24\"\n",
              "       width=\"24px\">\n",
              "    <path d=\"M0 0h24v24H0V0z\" fill=\"none\"/>\n",
              "    <path d=\"M18.56 5.44l.94 2.06.94-2.06 2.06-.94-2.06-.94-.94-2.06-.94 2.06-2.06.94zm-11 1L8.5 8.5l.94-2.06 2.06-.94-2.06-.94L8.5 2.5l-.94 2.06-2.06.94zm10 10l.94 2.06.94-2.06 2.06-.94-2.06-.94-.94-2.06-.94 2.06-2.06.94z\"/><path d=\"M17.41 7.96l-1.37-1.37c-.4-.4-.92-.59-1.43-.59-.52 0-1.04.2-1.43.59L10.3 9.45l-7.72 7.72c-.78.78-.78 2.05 0 2.83L4 21.41c.39.39.9.59 1.41.59.51 0 1.02-.2 1.41-.59l7.78-7.78 2.81-2.81c.8-.78.8-2.07 0-2.86zM5.41 20L4 18.59l7.72-7.72 1.47 1.35L5.41 20z\"/>\n",
              "  </svg>\n",
              "      </button>\n",
              "      \n",
              "  <style>\n",
              "    .colab-df-container {\n",
              "      display:flex;\n",
              "      flex-wrap:wrap;\n",
              "      gap: 12px;\n",
              "    }\n",
              "\n",
              "    .colab-df-convert {\n",
              "      background-color: #E8F0FE;\n",
              "      border: none;\n",
              "      border-radius: 50%;\n",
              "      cursor: pointer;\n",
              "      display: none;\n",
              "      fill: #1967D2;\n",
              "      height: 32px;\n",
              "      padding: 0 0 0 0;\n",
              "      width: 32px;\n",
              "    }\n",
              "\n",
              "    .colab-df-convert:hover {\n",
              "      background-color: #E2EBFA;\n",
              "      box-shadow: 0px 1px 2px rgba(60, 64, 67, 0.3), 0px 1px 3px 1px rgba(60, 64, 67, 0.15);\n",
              "      fill: #174EA6;\n",
              "    }\n",
              "\n",
              "    [theme=dark] .colab-df-convert {\n",
              "      background-color: #3B4455;\n",
              "      fill: #D2E3FC;\n",
              "    }\n",
              "\n",
              "    [theme=dark] .colab-df-convert:hover {\n",
              "      background-color: #434B5C;\n",
              "      box-shadow: 0px 1px 3px 1px rgba(0, 0, 0, 0.15);\n",
              "      filter: drop-shadow(0px 1px 2px rgba(0, 0, 0, 0.3));\n",
              "      fill: #FFFFFF;\n",
              "    }\n",
              "  </style>\n",
              "\n",
              "      <script>\n",
              "        const buttonEl =\n",
              "          document.querySelector('#df-67d3b054-b501-49fd-8bde-106944e4d758 button.colab-df-convert');\n",
              "        buttonEl.style.display =\n",
              "          google.colab.kernel.accessAllowed ? 'block' : 'none';\n",
              "\n",
              "        async function convertToInteractive(key) {\n",
              "          const element = document.querySelector('#df-67d3b054-b501-49fd-8bde-106944e4d758');\n",
              "          const dataTable =\n",
              "            await google.colab.kernel.invokeFunction('convertToInteractive',\n",
              "                                                     [key], {});\n",
              "          if (!dataTable) return;\n",
              "\n",
              "          const docLinkHtml = 'Like what you see? Visit the ' +\n",
              "            '<a target=\"_blank\" href=https://colab.research.google.com/notebooks/data_table.ipynb>data table notebook</a>'\n",
              "            + ' to learn more about interactive tables.';\n",
              "          element.innerHTML = '';\n",
              "          dataTable['output_type'] = 'display_data';\n",
              "          await google.colab.output.renderOutput(dataTable, element);\n",
              "          const docLink = document.createElement('div');\n",
              "          docLink.innerHTML = docLinkHtml;\n",
              "          element.appendChild(docLink);\n",
              "        }\n",
              "      </script>\n",
              "    </div>\n",
              "  </div>\n",
              "  "
            ]
          },
          "metadata": {},
          "execution_count": 9
        }
      ]
    },
    {
      "cell_type": "code",
      "metadata": {
        "id": "gj8z90Ta-7T9"
      },
      "source": [
        "lines[\"a\"]=lines[\"a\"].astype(str)\n",
        "lines[\"k\"]=lines[\"a\"].apply(lambda x: [ch for ch in x])\n",
        "\n",
        "coustum_dict=[str(),[],0]\n",
        "\n",
        "temp=coustum_dict.copy()\n",
        "temp\n",
        "\n",
        "sequences=[[]]\n",
        "for j in range(len(lines)):\n",
        "  temp=coustum_dict.copy()\n",
        "  a,k=lines.iloc[j]\n",
        "  temp[0]=a\n",
        "  temp[1]=k\n",
        "  if(j==0):\n",
        "     sequences[j]=temp\n",
        "  else:   \n",
        "    sequences.append(temp)\n"
      ],
      "execution_count": 10,
      "outputs": []
    },
    {
      "cell_type": "code",
      "metadata": {
        "id": "9rOesJ_A01Uf"
      },
      "source": [
        "def word_pred(word):\n",
        "  word_list=sequences\n",
        "  r=np.shape(word_list)\n",
        "  for i in range(r[0]):\n",
        "    score=sentence_bleu(word_list[i][1], word, weights=(0.25, 0.25, 0.25, 0.25))\n",
        "    word_list[i][2]=score\n",
        "\n",
        "  ordered = sorted(word_list, key=lambda x:x[2],reverse=True)\n",
        "  ordered=ordered[:20]\n",
        "\n",
        "  output=[[]]\n",
        "  k=0\n",
        "\n",
        "  for j in range(10):\n",
        "    if(len(ordered[j][1])>len(word) or len(ordered[j][1])<len(word)+2):\n",
        "        output.append(ordered[j])\n",
        "\n",
        "\n",
        "  return output"
      ],
      "execution_count": 11,
      "outputs": []
    },
    {
      "cell_type": "code",
      "metadata": {
        "id": "hpXv4sV99aLh"
      },
      "source": [
        "#path = '/content/drive/My Drive'\n",
        "path =''"
      ],
      "execution_count": 12,
      "outputs": []
    },
    {
      "cell_type": "code",
      "metadata": {
        "colab": {
          "base_uri": "https://localhost:8080/",
          "height": 229
        },
        "id": "VbwiEZG0lkx7",
        "outputId": "2348eddf-e04b-464c-ae7d-a5b24686ba90"
      },
      "source": [
        "img = mpimg.imread(os.path.join(path, 'fuleid.JPG'))\n",
        "plt.imshow(img)"
      ],
      "execution_count": 13,
      "outputs": [
        {
          "output_type": "execute_result",
          "data": {
            "text/plain": [
              "<matplotlib.image.AxesImage at 0x7f41726167d0>"
            ]
          },
          "metadata": {},
          "execution_count": 13
        },
        {
          "output_type": "display_data",
          "data": {
            "text/plain": [
              "<Figure size 432x288 with 1 Axes>"
            ],
            "image/png": "[encoded data removed]"
          },
          "metadata": {
            "needs_background": "light"
          }
        }
      ]
    },
    {
      "cell_type": "code",
      "metadata": {
        "colab": {
          "base_uri": "https://localhost:8080/",
          "height": 229
        },
        "id": "w1h2R-Oqlkx-",
        "outputId": "17b8529d-bb20-4fb7-f974-1bc163295adf"
      },
      "source": [
        "gray = cv2.cvtColor(img, cv2.COLOR_BGR2GRAY) #Converting to GrayScale\n",
        "plt.imshow(gray, cmap='gray')"
      ],
      "execution_count": 14,
      "outputs": [
        {
          "output_type": "execute_result",
          "data": {
            "text/plain": [
              "<matplotlib.image.AxesImage at 0x7f41720fbc50>"
            ]
          },
          "metadata": {},
          "execution_count": 14
        },
        {
          "output_type": "display_data",
          "data": {
            "text/plain": [
              "<Figure size 432x288 with 1 Axes>"
            ],
            "image/png": "[encoded data removed]"
          },
          "metadata": {
            "needs_background": "light"
          }
        }
      ]
    },
    {
      "cell_type": "code",
      "metadata": {
        "colab": {
          "base_uri": "https://localhost:8080/",
          "height": 229
        },
        "id": "R1zPUADyxEO-",
        "outputId": "7866890d-9913-46ba-c6f1-c3935cab875a"
      },
      "source": [
        "kernel = np.ones((5,5),np.uint8)\n",
        "#gray = cv2.dilate(gray , kernel, iterations = 1)\n",
        "plt.imshow(gray, cmap='gray')"
      ],
      "execution_count": 15,
      "outputs": [
        {
          "output_type": "execute_result",
          "data": {
            "text/plain": [
              "<matplotlib.image.AxesImage at 0x7f41720cc750>"
            ]
          },
          "metadata": {},
          "execution_count": 15
        },
        {
          "output_type": "display_data",
          "data": {
            "text/plain": [
              "<Figure size 432x288 with 1 Axes>"
            ],
            "image/png": "[encoded data removed]"
          },
          "metadata": {
            "needs_background": "light"
          }
        }
      ]
    },
    {
      "cell_type": "code",
      "metadata": {
        "id": "Xd1IzrVQlkyB"
      },
      "source": [
        "#img = mpimg.imread('20.jpg')\n",
        "h, w = img.shape[:2]\n",
        "image_size = h*w\n",
        "mser = cv2.MSER_create()\n",
        "mser.setMaxArea(int(image_size/2))\n",
        "mser.setMinArea(10)\n",
        "\n",
        "gray_copy = np.copy(gray)\n",
        "_, bw = cv2.threshold(gray_copy, 0.0, 255.0, cv2.THRESH_BINARY | cv2.THRESH_OTSU)\n",
        "\n",
        "regions, rects = mser.detectRegions(bw)\n",
        "for (x, y, w, h) in rects:\n",
        "    cv2.rectangle(gray_copy, (x, y), (x+w, y+h), color=(0, 0, 255), thickness=3)"
      ],
      "execution_count": 16,
      "outputs": []
    },
    {
      "cell_type": "code",
      "metadata": {
        "colab": {
          "base_uri": "https://localhost:8080/",
          "height": 229
        },
        "id": "uRYeHpaDlkyD",
        "outputId": "3b303912-0ea4-4190-d100-f86fc0dee75a"
      },
      "source": [
        "plt.imshow(gray_copy, cmap='gray')"
      ],
      "execution_count": 17,
      "outputs": [
        {
          "output_type": "execute_result",
          "data": {
            "text/plain": [
              "<matplotlib.image.AxesImage at 0x7f4171fe3d50>"
            ]
          },
          "metadata": {},
          "execution_count": 17
        },
        {
          "output_type": "display_data",
          "data": {
            "text/plain": [
              "<Figure size 432x288 with 1 Axes>"
            ],
            "image/png": "[encoded data removed]"
          },
          "metadata": {
            "needs_background": "light"
          }
        }
      ]
    },
    {
      "cell_type": "code",
      "metadata": {
        "colab": {
          "base_uri": "https://localhost:8080/"
        },
        "id": "tje7G9-TlkyF",
        "outputId": "04aa2baa-f094-4ae2-f915-7e3afaee55f5"
      },
      "source": [
        "print(rects)"
      ],
      "execution_count": 18,
      "outputs": [
        {
          "output_type": "stream",
          "name": "stdout",
          "text": [
            "[[119  29  19  32]\n",
            " [ 54  38  18  23]\n",
            " [110  31   4   4]\n",
            " [110  38   4  23]\n",
            " [ 87  38  18  23]\n",
            " [ 78  29   4  32]\n",
            " [ 38  29  14  32]\n",
            " [123  41  11  17]\n",
            " [ 91  41  11   6]]\n"
          ]
        }
      ]
    },
    {
      "cell_type": "code",
      "metadata": {
        "id": "yyYF1pexInyu"
      },
      "source": [
        "a=rects"
      ],
      "execution_count": 19,
      "outputs": []
    },
    {
      "cell_type": "code",
      "metadata": {
        "colab": {
          "base_uri": "https://localhost:8080/"
        },
        "id": "Veyz4EcIInBB",
        "outputId": "6e7d0b39-5f4f-4baa-ee00-a99fdb93894d"
      },
      "source": [
        "a = a[a[:,0].argsort(kind='mergesort')]\n",
        "print(a)"
      ],
      "execution_count": 20,
      "outputs": [
        {
          "output_type": "stream",
          "name": "stdout",
          "text": [
            "[[ 38  29  14  32]\n",
            " [ 54  38  18  23]\n",
            " [ 78  29   4  32]\n",
            " [ 87  38  18  23]\n",
            " [ 91  41  11   6]\n",
            " [110  31   4   4]\n",
            " [110  38   4  23]\n",
            " [119  29  19  32]\n",
            " [123  41  11  17]]\n"
          ]
        }
      ]
    },
    {
      "cell_type": "code",
      "metadata": {
        "id": "VYKAZkDWIwy3"
      },
      "source": [
        "rects=a"
      ],
      "execution_count": 21,
      "outputs": []
    },
    {
      "cell_type": "code",
      "metadata": {
        "colab": {
          "base_uri": "https://localhost:8080/"
        },
        "id": "H1Vvt0BJG_P-",
        "outputId": "fb44ae7a-bba4-40e2-b730-4c595ddc8863"
      },
      "source": [
        "print(type(rects))"
      ],
      "execution_count": 22,
      "outputs": [
        {
          "output_type": "stream",
          "name": "stdout",
          "text": [
            "<class 'numpy.ndarray'>\n"
          ]
        }
      ]
    },
    {
      "cell_type": "code",
      "metadata": {
        "colab": {
          "base_uri": "https://localhost:8080/",
          "height": 320
        },
        "id": "L5mQalKnlkyH",
        "outputId": "2a28392d-8d70-4276-b17c-cf53ec7709f9"
      },
      "source": [
        "i = 0\n",
        "#crop_img1 = gray[rects[i][1]-10:rects[i][1]+rects[i][3]+10, rects[i][0]-10:rects[i][0]+rects[i][2]+10]\n",
        "crop_img1 = gray[rects[i][1]-5:rects[i][1]+rects[i][3]+5, rects[i][0]-5:rects[i][0]+rects[i][2]+2]\n",
        "ret, thresh_img = cv2.threshold(crop_img1, 127.5, 255, cv2.THRESH_BINARY_INV)\n",
        "crop_img = cv2.resize(thresh_img, (28, 28))\n",
        "plt.figure(figsize = (5,5))\n",
        "plt.imshow(crop_img, cmap='gray')\n",
        "plt.show()"
      ],
      "execution_count": 23,
      "outputs": [
        {
          "output_type": "display_data",
          "data": {
            "text/plain": [
              "<Figure size 360x360 with 1 Axes>"
            ],
            "image/png": "[encoded data removed]"
          },
          "metadata": {
            "needs_background": "light"
          }
        }
      ]
    },
    {
      "cell_type": "code",
      "metadata": {
        "id": "hmS523eslkyK",
        "colab": {
          "base_uri": "https://localhost:8080/"
        },
        "outputId": "a105e8a6-11ec-42c2-d7cf-9a2e824e003b"
      },
      "source": [
        "crop_img = crop_img.reshape(1, 28, 28, 1)\n",
        "crop_img = np.asarray(crop_img, np.float)\n",
        "crop_img /= 255"
      ],
      "execution_count": 24,
      "outputs": [
        {
          "output_type": "stream",
          "name": "stderr",
          "text": [
            "/usr/local/lib/python3.7/dist-packages/ipykernel_launcher.py:2: DeprecationWarning: `np.float` is a deprecated alias for the builtin `float`. To silence this warning, use `float` by itself. Doing this will not modify any behavior and is safe. If you specifically wanted the numpy scalar type, use `np.float64` here.\n",
            "Deprecated in NumPy 1.20; for more details and guidance: https://numpy.org/devdocs/release/1.20.0-notes.html#deprecations\n",
            "  \n"
          ]
        }
      ]
    },
    {
      "cell_type": "code",
      "metadata": {
        "colab": {
          "base_uri": "https://localhost:8080/"
        },
        "id": "QzcNXsunlkyM",
        "outputId": "2293b565-218e-48db-e8f1-ad0aaf725784"
      },
      "source": [
        "pred1=model.predict(crop_img)\n",
        "maxi = np.argmax(pred1)\n",
        "print(maxi)"
      ],
      "execution_count": 25,
      "outputs": [
        {
          "output_type": "stream",
          "name": "stdout",
          "text": [
            "15\n"
          ]
        }
      ]
    },
    {
      "cell_type": "code",
      "metadata": {
        "colab": {
          "base_uri": "https://localhost:8080/",
          "height": 70
        },
        "id": "GD-4QsbhlkyO",
        "outputId": "a9c577fe-aa48-47f5-a110-9fb54bced143"
      },
      "source": [
        "'''images = []\n",
        "for i in range(len(rects)):\n",
        "    if rects[i][3] >= 20 and rects[i][2] >= 20:\n",
        "        crop_img1 = gray[rects[i][1]-10:rects[i][1]+rects[i][3]+10, rects[i][0]-20:rects[i][0]+rects[i][2]+20]\n",
        "        ret, thresh_img = cv2.threshold(crop_img1, 127.5, 255, cv2.THRESH_BINARY_INV)\n",
        "        crop_img = cv2.resize(thresh_img, (28, 28))\n",
        "        images.append(crop_img)'''"
      ],
      "execution_count": 26,
      "outputs": [
        {
          "output_type": "execute_result",
          "data": {
            "text/plain": [
              "'images = []\\nfor i in range(len(rects)):\\n    if rects[i][3] >= 20 and rects[i][2] >= 20:\\n        crop_img1 = gray[rects[i][1]-10:rects[i][1]+rects[i][3]+10, rects[i][0]-20:rects[i][0]+rects[i][2]+20]\\n        ret, thresh_img = cv2.threshold(crop_img1, 127.5, 255, cv2.THRESH_BINARY_INV)\\n        crop_img = cv2.resize(thresh_img, (28, 28))\\n        images.append(crop_img)'"
            ],
            "application/vnd.google.colaboratory.intrinsic+json": {
              "type": "string"
            }
          },
          "metadata": {},
          "execution_count": 26
        }
      ]
    },
    {
      "cell_type": "code",
      "metadata": {
        "colab": {
          "base_uri": "https://localhost:8080/",
          "height": 1000
        },
        "id": "m3FxkzoPFgah",
        "outputId": "31e81d46-8e03-4fcb-db47-c56b6039562b"
      },
      "source": [
        "\n",
        "# visualization of each bounded characters\n",
        "images = []\n",
        "for i in range(len(rects)):\n",
        "    if rects[i][3] >= 15 and rects[i][2] >= 10:\n",
        "        crop_img1 = gray[rects[i][1]-5:rects[i][1]+rects[i][3]+5, rects[i][0]-5:rects[i][0]+rects[i][2]+2]\n",
        "        ret, thresh_img = cv2.threshold(crop_img1, 127, 255, cv2.THRESH_BINARY_INV)\n",
        "        crop_img = cv2.resize(thresh_img, (28,28))\n",
        "        images.append(crop_img)\n",
        "\n",
        "for i in range(len(images)):\n",
        "    \n",
        "    plt.figure(figsize=(5,5))\n",
        "    plt.imshow(images[i], cmap='gray')"
      ],
      "execution_count": 27,
      "outputs": [
        {
          "output_type": "display_data",
          "data": {
            "text/plain": [
              "<Figure size 360x360 with 1 Axes>"
            ],
            "image/png": "[encoded data removed]"
          },
          "metadata": {
            "needs_background": "light"
          }
        },
        {
          "output_type": "display_data",
          "data": {
            "text/plain": [
              "<Figure size 360x360 with 1 Axes>"
            ],
            "image/png": "[encoded data removed]"
          },
          "metadata": {
            "needs_background": "light"
          }
        },
        {
          "output_type": "display_data",
          "data": {
            "text/plain": [
              "<Figure size 360x360 with 1 Axes>"
            ],
            "image/png": "[encoded data removed]"
          },
          "metadata": {
            "needs_background": "light"
          }
        },
        {
          "output_type": "display_data",
          "data": {
            "text/plain": [
              "<Figure size 360x360 with 1 Axes>"
            ],
            "image/png": "[encoded data removed]"
          },
          "metadata": {
            "needs_background": "light"
          }
        },
        {
          "output_type": "display_data",
          "data": {
            "text/plain": [
              "<Figure size 360x360 with 1 Axes>"
            ],
            "image/png": "[encoded data removed]"
          },
          "metadata": {
            "needs_background": "light"
          }
        }
      ]
    },
    {
      "cell_type": "code",
      "metadata": {
        "id": "g-qpvP0slkyT",
        "colab": {
          "base_uri": "https://localhost:8080/"
        },
        "outputId": "9b63f980-ba85-47a3-d2af-e2090253d908"
      },
      "source": [
        "images_copy = np.asarray(images, np.float)\n",
        "images_copy = images_copy.reshape(len(images), 28, 28, 1)\n",
        "images_copy /= 255"
      ],
      "execution_count": 28,
      "outputs": [
        {
          "output_type": "stream",
          "name": "stderr",
          "text": [
            "/usr/local/lib/python3.7/dist-packages/ipykernel_launcher.py:1: DeprecationWarning: `np.float` is a deprecated alias for the builtin `float`. To silence this warning, use `float` by itself. Doing this will not modify any behavior and is safe. If you specifically wanted the numpy scalar type, use `np.float64` here.\n",
            "Deprecated in NumPy 1.20; for more details and guidance: https://numpy.org/devdocs/release/1.20.0-notes.html#deprecations\n",
            "  \"\"\"Entry point for launching an IPython kernel.\n"
          ]
        }
      ]
    },
    {
      "cell_type": "code",
      "metadata": {
        "colab": {
          "base_uri": "https://localhost:8080/"
        },
        "id": "Twj9m8yOlkyV",
        "outputId": "bd20e62e-ea88-4f34-a6b6-e42d7c76a129"
      },
      "source": [
        "pred=model.predict(images_copy)\n",
        "print(pred[0])"
      ],
      "execution_count": 29,
      "outputs": [
        {
          "output_type": "stream",
          "name": "stdout",
          "text": [
            "[1.2163933e-14 8.1638531e-17 1.6365988e-14 1.3601032e-16 9.7137576e-12\n",
            " 1.4316347e-12 8.7916709e-18 5.8591507e-11 4.9927190e-10 2.5230299e-14\n",
            " 4.9213526e-11 1.0257565e-14 5.0213274e-15 3.3490204e-17 2.7492540e-06\n",
            " 5.1118916e-01 4.8712071e-13 2.1217076e-15 4.1697517e-06 5.9581260e-09\n",
            " 7.3925116e-13 4.0286424e-12 7.9820949e-19 2.8827931e-21 3.4873885e-17\n",
            " 4.9595896e-12 7.1271304e-18 5.1093651e-13 2.0371976e-16 1.2851618e-03\n",
            " 2.4185290e-25 2.3964115e-20 7.3779933e-23 3.3417461e-17 7.1136114e-16\n",
            " 5.3479426e-10 1.3523360e-11 9.0064680e-13 1.6692381e-17 4.3005377e-10\n",
            " 6.8087414e-02 1.1177220e-08 9.7466013e-13 2.0015981e-19 3.2751936e-07\n",
            " 4.3033137e-09 4.1943100e-01]\n"
          ]
        }
      ]
    },
    {
      "cell_type": "code",
      "metadata": {
        "id": "kCr8fv9xlkyZ"
      },
      "source": [
        "import pandas as pd\n",
        "pred_dataframe = pd.DataFrame(pred)"
      ],
      "execution_count": 30,
      "outputs": []
    },
    {
      "cell_type": "code",
      "metadata": {
        "colab": {
          "base_uri": "https://localhost:8080/"
        },
        "id": "jalDGLsllkyd",
        "outputId": "0ac54701-1d98-4984-ebef-8a1f435bedf1"
      },
      "source": [
        "print(pred_dataframe)"
      ],
      "execution_count": 31,
      "outputs": [
        {
          "output_type": "stream",
          "name": "stdout",
          "text": [
            "             0             1             2             3             4   \\\n",
            "0  1.216393e-14  8.163853e-17  1.636599e-14  1.360103e-16  9.713758e-12   \n",
            "1  7.803187e-08  8.825838e-05  7.047991e-08  2.243154e-16  1.510084e-06   \n",
            "2  2.613305e-12  1.680510e-19  6.810822e-12  4.073440e-20  2.757408e-18   \n",
            "3  5.314635e-06  1.706334e-15  2.280950e-16  3.005209e-19  3.316847e-11   \n",
            "4  1.416586e-02  1.840896e-12  2.089320e-13  8.297437e-25  1.185101e-08   \n",
            "\n",
            "             5             6             7             8             9   ...  \\\n",
            "0  1.431635e-12  8.791671e-18  5.859151e-11  4.992719e-10  2.523030e-14  ...   \n",
            "1  2.578536e-14  1.247154e-09  4.401876e-10  2.337533e-18  7.179819e-16  ...   \n",
            "2  4.180872e-19  4.938603e-16  3.805761e-23  2.590323e-12  4.396193e-14  ...   \n",
            "3  8.127302e-17  9.278719e-12  8.788918e-24  1.094378e-17  5.404440e-16  ...   \n",
            "4  1.991980e-11  4.817533e-15  4.623550e-22  4.614233e-20  1.360376e-17  ...   \n",
            "\n",
            "             37            38            39            40            41  \\\n",
            "0  9.006468e-13  1.669238e-17  4.300538e-10  6.808741e-02  1.117722e-08   \n",
            "1  8.975834e-07  5.113392e-04  9.894187e-12  2.858882e-13  4.511800e-11   \n",
            "2  8.981462e-15  2.187137e-12  9.999989e-01  1.475390e-08  1.218412e-08   \n",
            "3  7.108457e-10  9.997520e-01  3.977159e-11  1.781706e-16  1.872166e-04   \n",
            "4  2.055226e-06  6.363218e-02  3.720392e-09  9.236579e-11  3.519184e-10   \n",
            "\n",
            "             42            43            44            45            46  \n",
            "0  9.746601e-13  2.001598e-19  3.275194e-07  4.303314e-09  4.194310e-01  \n",
            "1  1.034792e-07  6.716998e-04  7.186380e-09  3.351427e-11  1.152664e-11  \n",
            "2  4.989022e-18  8.888065e-17  8.933544e-10  1.085428e-09  4.339922e-11  \n",
            "3  1.405568e-13  4.628117e-15  6.973580e-12  4.734954e-18  3.089612e-12  \n",
            "4  1.496101e-15  1.088898e-02  8.244997e-10  3.253037e-02  1.950046e-11  \n",
            "\n",
            "[5 rows x 47 columns]\n"
          ]
        }
      ]
    },
    {
      "cell_type": "code",
      "metadata": {
        "colab": {
          "base_uri": "https://localhost:8080/"
        },
        "id": "SkHmy4Zzlkyg",
        "outputId": "7be441e9-7d7e-438a-cf1f-5f1fa01ce4c8"
      },
      "source": [
        "pred_dataframe.idxmax(axis = 1)"
      ],
      "execution_count": 32,
      "outputs": [
        {
          "output_type": "execute_result",
          "data": {
            "text/plain": [
              "0    15\n",
              "1    30\n",
              "2    39\n",
              "3    38\n",
              "4    12\n",
              "dtype: int64"
            ]
          },
          "metadata": {},
          "execution_count": 32
        }
      ]
    },
    {
      "cell_type": "code",
      "metadata": {
        "id": "dVLo9uEYRVTR"
      },
      "source": [
        "final_pred=pred_dataframe.idxmax(axis = 1)"
      ],
      "execution_count": 33,
      "outputs": []
    },
    {
      "cell_type": "code",
      "metadata": {
        "colab": {
          "base_uri": "https://localhost:8080/",
          "height": 1000
        },
        "id": "NTOFoQMMlkyi",
        "outputId": "c2e3f1d8-cfe7-44c3-b7b4-40a6e4f13ba4"
      },
      "source": [
        "from matplotlib import gridspec\n",
        "y_pos = np.arange(len(pred[0]))\n",
        "xtick = [str(i) for i in range(len(pred[0]))]\n",
        "\n",
        "for i in range(len(images)):\n",
        "    fig = plt.figure(figsize=(20, 10)) \n",
        "    gs = gridspec.GridSpec(1, 2, width_ratios=[0.5, 3]) \n",
        "    ax0 = plt.subplot(gs[0])\n",
        "    ax0.imshow(images[i], cmap='gray')\n",
        "    ax1 = plt.subplot(gs[1])\n",
        "    ax1.bar(y_pos, pred[i], align='center', alpha=1)\n",
        "    ax1.set_xticks(y_pos, xtick)\n",
        "    ax1.set_ylabel('Probability')\n",
        "    ax1.set_title('Probability Distribution')\n",
        "    plt.tight_layout()\n",
        "    plt.show()"
      ],
      "execution_count": 34,
      "outputs": [
        {
          "output_type": "stream",
          "name": "stderr",
          "text": [
            "/usr/local/lib/python3.7/dist-packages/ipykernel_launcher.py:12: MatplotlibDeprecationWarning: Passing the minor parameter of set_xticks() positionally is deprecated since Matplotlib 3.2; the parameter will become keyword-only two minor releases later.\n",
            "  if sys.path[0] == '':\n"
          ]
        },
        {
          "output_type": "display_data",
          "data": {
            "text/plain": [
              "<Figure size 1440x720 with 2 Axes>"
            ],
            "image/png": "[encoded data removed]"
          },
          "metadata": {
            "needs_background": "light"
          }
        },
        {
          "output_type": "display_data",
          "data": {
            "text/plain": [
              "<Figure size 1440x720 with 2 Axes>"
            ],
            "image/png": "[encoded data removed]"
          },
          "metadata": {
            "needs_background": "light"
          }
        },
        {
          "output_type": "display_data",
          "data": {
            "text/plain": [
              "<Figure size 1440x720 with 2 Axes>"
            ],
            "image/png": "[encoded data removed]"
          },
          "metadata": {
            "needs_background": "light"
          }
        },
        {
          "output_type": "display_data",
          "data": {
            "text/plain": [
              "<Figure size 1440x720 with 2 Axes>"
            ],
            "image/png": "[encoded data removed]"
          },
          "metadata": {
            "needs_background": "light"
          }
        },
        {
          "output_type": "display_data",
          "data": {
            "text/plain": [
              "<Figure size 1440x720 with 2 Axes>"
            ],
            "image/png": "[encoded data removed]"
          },
          "metadata": {
            "needs_background": "light"
          }
        }
      ]
    },
    {
      "cell_type": "code",
      "metadata": {
        "id": "sKqep8z4-HZp"
      },
      "source": [
        "Dict = dict({0: '0', 1: '1', 2:'2', 3:'3', 4: '4', 5: '5', 6:'6',7:'7', 8: '8', 9: '9', 10:'A', 11:'B', 12: 'C', 13: 'D', 14:'E',15:'F', 16: 'G', 17:'H',18:'I',19:'J', 20:'K', 21:'L', 22: 'M', 23: 'N', 24:'O',25:'P', 26: 'Q', 27:'R',28:'S',29:'T', 30:'U', 31:'V', 32: 'W', 33: 'X', 34:'Y',35:'Z', 36: 'a', 37:'b',38:'d',39:'e', 40:'f', 41:'g', 42: 'h', 43: 'n', 44:'q',45:'r', 46: 't'}) "
      ],
      "execution_count": 35,
      "outputs": []
    },
    {
      "cell_type": "code",
      "metadata": {
        "colab": {
          "base_uri": "https://localhost:8080/"
        },
        "id": "MVEVtZSWPKpx",
        "outputId": "74204b26-a405-4738-90da-bf5c9a5d8db8"
      },
      "source": [
        "word=[]\n",
        "for i in range(len(final_pred)):\n",
        "  word+=Dict[final_pred[i]]\n",
        "print(word[:-1])  "
      ],
      "execution_count": 36,
      "outputs": [
        {
          "output_type": "stream",
          "name": "stdout",
          "text": [
            "['F', 'U', 'e', 'd']\n"
          ]
        }
      ]
    },
    {
      "cell_type": "code",
      "metadata": {
        "colab": {
          "base_uri": "https://localhost:8080/",
          "height": 35
        },
        "id": "jO-eoTsudLzr",
        "outputId": "a6753f18-5084-4cce-fea4-b83c117c9e39"
      },
      "source": [
        "w= ''.join([ch for ch in word[:-1]])\n",
        "w"
      ],
      "execution_count": 39,
      "outputs": [
        {
          "output_type": "execute_result",
          "data": {
            "text/plain": [
              "'FUed'"
            ],
            "application/vnd.google.colaboratory.intrinsic+json": {
              "type": "string"
            }
          },
          "metadata": {},
          "execution_count": 39
        }
      ]
    },
    {
      "cell_type": "code",
      "metadata": {
        "colab": {
          "base_uri": "https://localhost:8080/",
          "height": 35
        },
        "id": "6dvF7bQqbgq0",
        "outputId": "cf74f6fd-840a-43a3-cfae-7b299db53497"
      },
      "source": [
        "w=w.lower()\n",
        "w"
      ],
      "execution_count": 40,
      "outputs": [
        {
          "output_type": "execute_result",
          "data": {
            "text/plain": [
              "'fued'"
            ],
            "application/vnd.google.colaboratory.intrinsic+json": {
              "type": "string"
            }
          },
          "metadata": {},
          "execution_count": 40
        }
      ]
    },
    {
      "cell_type": "code",
      "metadata": {
        "colab": {
          "base_uri": "https://localhost:8080/"
        },
        "id": "ebFE5e66b3dp",
        "outputId": "9fe21cc6-e947-4941-9905-08eaadf8e069"
      },
      "source": [
        "w2=[]\n",
        "for ch in w :\n",
        "  w2.append(ch)\n",
        "\n",
        "w2  "
      ],
      "execution_count": 41,
      "outputs": [
        {
          "output_type": "execute_result",
          "data": {
            "text/plain": [
              "['f', 'u', 'e', 'd']"
            ]
          },
          "metadata": {},
          "execution_count": 41
        }
      ]
    },
    {
      "cell_type": "code",
      "metadata": {
        "colab": {
          "base_uri": "https://localhost:8080/"
        },
        "id": "1q81fYB4LjYI",
        "outputId": "e2cd088e-be7b-46ba-e10c-c54470c44c10"
      },
      "source": [
        "\n",
        "#vid=word_pred(can)\n",
        "vid=word_pred(w2)"
      ],
      "execution_count": 42,
      "outputs": [
        {
          "output_type": "stream",
          "name": "stderr",
          "text": [
            "/usr/local/lib/python3.7/dist-packages/numpy/core/fromnumeric.py:1970: VisibleDeprecationWarning: Creating an ndarray from ragged nested sequences (which is a list-or-tuple of lists-or-tuples-or ndarrays with different lengths or shapes) is deprecated. If you meant to do this, you must specify 'dtype=object' when creating the ndarray.\n",
            "  result = asarray(a).shape\n",
            "/usr/local/lib/python3.7/dist-packages/nltk/translate/bleu_score.py:490: UserWarning: \n",
            "Corpus/Sentence contains 0 counts of 2-gram overlaps.\n",
            "BLEU scores might be undesirable; use SmoothingFunction().\n",
            "  warnings.warn(_msg)\n"
          ]
        }
      ]
    },
    {
      "cell_type": "code",
      "metadata": {
        "colab": {
          "base_uri": "https://localhost:8080/"
        },
        "id": "AxEOJO2FR_Tw",
        "outputId": "825e7e08-0425-4cce-c6c3-37422070dcf2"
      },
      "source": [
        "print('Actual Captured Word :',w)\n",
        "for i in range(len(vid)-1):\n",
        "  print('Predicted word:', vid[i+1][0])\n"
      ],
      "execution_count": 43,
      "outputs": [
        {
          "output_type": "stream",
          "name": "stdout",
          "text": [
            "Actual Captured Word : fued\n",
            "Predicted word: figured\n",
            "Predicted word: furnished\n",
            "Predicted word: refund\n",
            "Predicted word: refused\n",
            "Predicted word: unfounded\n",
            "Predicted word: wonderful\n",
            "Predicted word: abused\n",
            "Predicted word: accused\n",
            "Predicted word: accustomed\n",
            "Predicted word: acquainted\n"
          ]
        }
      ]
    },
    {
      "cell_type": "code",
      "metadata": {
        "id": "8JI9oru2Mq8j"
      },
      "source": [
        ""
      ],
      "execution_count": null,
      "outputs": []
    }
  ]
}